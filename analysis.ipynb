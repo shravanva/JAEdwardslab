import pandas as pd
import seaborn as sns
import matplotlib.pyplot as plt
import numpy as np

# Load phenotype and allele data
pheno = pd.read_csv("C:\\Users\\User\\Downloads\\GWAS.phenotype.oct9.txt", sep="\t")
allele_data = pd.read_csv("C:\\Users\\User\\Downloads\\snps_1_10130579.csv", sep=",", quotechar='"')

# Print the columns of allele data for verification
print("Allele Data Columns:", allele_data.columns)

# Rename columns and merge data
allele_data.rename(columns={'strain': 'Accession_ID', 'alt': 'alt'}, inplace=True)
snp_pheno = pd.merge(pheno, allele_data[['Accession_ID', 'alt']], on='Accession_ID', how='left')
snp_pheno['allele'] = np.where(snp_pheno['alt'] == 'C', 'minor', 'major')
snp_pheno['allele'].fillna('major', inplace=True)
snp_pheno['treatment'] = pd.Categorical(snp_pheno['treatment'], categories=['Mock', 'ABA'], ordered=True)

# Plotting Half Violin Plot
plt.figure(figsize=(10, 6))
sns.violinplot(data=snp_pheno, x='treatment', y='Ave_RLN', hue='treatment', split=True, inner=None)
sns.boxplot(data=snp_pheno, x='treatment', y='Ave_RLN', width=0.05, showcaps=False,
            boxprops={'facecolor': 'white', 'edgecolor': 'black', 'linewidth': 2},  # Thicker box outline
            meanprops={'color': 'red', 'linewidth': 2},  # Thicker mean line
            palette={'Mock': 'orange', 'ABA': 'skyblue'})  # Use palette for treatment colors

# Plot individual data points
for _, group_data in snp_pheno.groupby('Accession_ID'):
    plt.plot(group_data['treatment'], group_data['Ave_RLN'], color='grey', alpha=0.3)

plt.title('Half Violin Plot of Ave_RLN by Treatment')
plt.show()

# Calculate log2RLN if it doesn't exist
if 'log2RLN' not in snp_pheno.columns:
    snp_pheno['log2RLN'] = np.log2(snp_pheno['Ave_RLN'] + 1)

# Plotting Boxplot with Beeswarm
plt.figure(figsize=(10, 6))
palette = {'Mock': 'orange', 'ABA': 'blue'}

sns.boxplot(data=snp_pheno, x='allele', y='log2RLN', hue='treatment',
            linewidth=2,  # Thicker box outline
            boxprops={'edgecolor': 'white'},
            meanprops={'color': 'black', 'linewidth': 2},  # Thicker mean line
            palette={'Mock': 'red', 'ABA': 'green'}, width=0.8)  # Contrasting colors

sns.swarmplot(data=snp_pheno, x='allele', y='log2RLN', hue='treatment',
               dodge=True, size=3, palette=palette)

plt.title('Boxplot with Beeswarm of log2RLN by Allele and Treatment')
plt.show()
